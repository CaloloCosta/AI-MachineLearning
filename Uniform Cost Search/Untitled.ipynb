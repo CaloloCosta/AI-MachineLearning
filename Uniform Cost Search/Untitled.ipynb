{
 "cells": [
  {
   "cell_type": "markdown",
   "metadata": {},
   "source": [
    "## Uniform Cost Search\n",
    "\n",
    "Consider a problem-solving agent that uses a search algorithm to find solutions to a given problem. Implement\n",
    "the uniform-cost search strategy in Julia to find a solution inside the state space. The implementation\n",
    "will include the following steps:\n",
    "\n",
    "1. input a problem definition, which includes:\n",
    "    - the initial state;\n",
    "    - the collection of actions and the transition model;\n",
    "    - the cost attached to each action;\n",
    "    - the goal test.\n",
    "2. generate the state space from the problem definition;\n",
    "3. apply the uniform cost strategy to search for the solution;\n",
    "4. display the solution as a sequence of actions."
   ]
  },
  {
   "cell_type": "markdown",
   "metadata": {},
   "source": [
    "### 1 - Create the Grah"
   ]
  },
  {
   "cell_type": "code",
   "execution_count": 1,
   "metadata": {},
   "outputs": [],
   "source": [
    "mutable struct Node\n",
    "    edges ::AbstractVector{Any}\n",
    "    label ::Any\n",
    "    is_goal ::Bool\n",
    "end"
   ]
  },
  {
   "cell_type": "code",
   "execution_count": 2,
   "metadata": {},
   "outputs": [],
   "source": [
    "mutable struct Edge\n",
    "    destNode ::Node\n",
    "    weigth ::Int\n",
    "end\n",
    "    "
   ]
  },
  {
   "cell_type": "code",
   "execution_count": 3,
   "metadata": {},
   "outputs": [],
   "source": [
    "mutable struct Graph\n",
    "    nodes ::AbstractVector{Node}\n",
    "end"
   ]
  },
  {
   "cell_type": "code",
   "execution_count": 10,
   "metadata": {},
   "outputs": [
    {
     "data": {
      "text/plain": [
       "addEdge (generic function with 2 methods)"
      ]
     },
     "execution_count": 10,
     "metadata": {},
     "output_type": "execute_result"
    }
   ],
   "source": [
    "function addEdge(currNode::Node, destNode::Node, weight = 0)\n",
    "    edge = Edge(destNode,weight)\n",
    "    push!(currNode.edges,edge)\n",
    "end"
   ]
  },
  {
   "cell_type": "code",
   "execution_count": 22,
   "metadata": {},
   "outputs": [
    {
     "data": {
      "text/plain": [
       "Graph(Node[Node(Any[Edge(Node(Any[Edge(Node(Any[Edge(Node(Any[nothing], \"G\", true), 3)], \"D\", false), 2)], \"B\", false), 5), Edge(Node(Any[Edge(Node(Any[nothing], \"G\", true), 5), Edge(Node(Any[Edge(Node(Any[nothing], \"G\", true), 6)], \"E\", false), 7)], \"C\", false), 6)], \"A\", false), Node(Any[Edge(Node(Any[Edge(Node(Any[nothing], \"G\", true), 3)], \"D\", false), 2)], \"B\", false), Node(Any[Edge(Node(Any[nothing], \"G\", true), 5), Edge(Node(Any[Edge(Node(Any[nothing], \"G\", true), 6)], \"E\", false), 7)], \"C\", false), Node(Any[Edge(Node(Any[nothing], \"G\", true), 3)], \"D\", false), Node(Any[Edge(Node(Any[nothing], \"G\", true), 6)], \"E\", false), Node(Any[nothing], \"G\", true)])"
      ]
     },
     "execution_count": 22,
     "metadata": {},
     "output_type": "execute_result"
    }
   ],
   "source": [
    "g = Node([nothing],\"G\",true) # goal\n",
    "d = Node([Edge(g,3)],\"D\",false)\n",
    "b = Node([Edge(d,2)],\"B\",false)\n",
    "a = Node([Edge(b,5)],\"A\",false)\n",
    "c = Node([Edge(g,5)],\"C\",false)\n",
    "e = Node([Edge(g,6)],\"E\",false)\n",
    "addEdge(c,e,7)\n",
    "addEdge(a,c,6)\n",
    "\n",
    "graph = Graph([a,b,c,d,e,g])"
   ]
  },
  {
   "cell_type": "code",
   "execution_count": 23,
   "metadata": {},
   "outputs": [
    {
     "name": "stdout",
     "output_type": "stream",
     "text": [
      "Node(Any[Edge(Node(Any[Edge(Node(Any[Edge(Node(Any[nothing], \"G\", true), 3)], \"D\", false), 2)], \"B\", false), 5), Edge(Node(Any[Edge(Node(Any[nothing], \"G\", true), 5), Edge(Node(Any[Edge(Node(Any[nothing], \"G\", true), 6)], \"E\", false), 7)], \"C\", false), 6)], \"A\", false)\n",
      "\n",
      "\n",
      "Node(Any[Edge(Node(Any[Edge(Node(Any[nothing], \"G\", true), 3)], \"D\", false), 2)], \"B\", false)\n",
      "\n",
      "\n",
      "Node(Any[Edge(Node(Any[nothing], \"G\", true), 5), Edge(Node(Any[Edge(Node(Any[nothing], \"G\", true), 6)], \"E\", false), 7)], \"C\", false)\n",
      "\n",
      "\n",
      "Node(Any[Edge(Node(Any[nothing], \"G\", true), 3)], \"D\", false)\n",
      "\n",
      "\n",
      "Node(Any[Edge(Node(Any[nothing], \"G\", true), 6)], \"E\", false)\n",
      "\n",
      "\n",
      "Node(Any[nothing], \"G\", true)\n",
      "\n",
      "\n"
     ]
    }
   ],
   "source": [
    "for g in graph.nodes\n",
    "    println(g,\"\\n\\n\")\n",
    "end"
   ]
  }
 ],
 "metadata": {
  "kernelspec": {
   "display_name": "Julia 1.3.1",
   "language": "julia",
   "name": "julia-1.3"
  },
  "language_info": {
   "file_extension": ".jl",
   "mimetype": "application/julia",
   "name": "julia",
   "version": "1.3.1"
  }
 },
 "nbformat": 4,
 "nbformat_minor": 4
}
